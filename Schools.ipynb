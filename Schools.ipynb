{
 "cells": [
  {
   "cell_type": "markdown",
   "metadata": {},
   "source": [
    "# A guided project from dataquest"
   ]
  },
  {
   "cell_type": "markdown",
   "metadata": {},
   "source": [
    "This is a dataquest mission part of the course I'm doing to become a data scientist. You can find the solutions that [dataquest.io]() prepared in the github [repo](https://github.com/dataquestio/solutions/blob/master/Mission217Solutions.ipynb).\n",
    "\n",
    "Here's what I did! Feel free to get in touch with comments, questions and feedback!"
   ]
  },
  {
   "cell_type": "markdown",
   "metadata": {},
   "source": [
    "# Read in the data"
   ]
  },
  {
   "cell_type": "code",
   "execution_count": 2,
   "metadata": {},
   "outputs": [],
   "source": [
    "import pandas as pd\n",
    "import numpy\n",
    "import re\n",
    "\n",
    "\n",
    "data_files = [\n",
    "    \"ap_2010.csv\",\n",
    "    \"class_size.csv\",\n",
    "    \"demographics.csv\",\n",
    "    \"graduation.csv\",\n",
    "    \"hs_directory.csv\",\n",
    "    \"sat_results.csv\"\n",
    "]\n",
    "\n",
    "data = {}\n",
    "\n",
    "for f in data_files:\n",
    "    d = pd.read_csv(\"schools/{0}\".format(f))\n",
    "    data[f.replace(\".csv\", \"\")] = d"
   ]
  },
  {
   "cell_type": "markdown",
   "metadata": {},
   "source": [
    "# Read in the surveys"
   ]
  },
  {
   "cell_type": "code",
   "execution_count": 3,
   "metadata": {},
   "outputs": [],
   "source": [
    "all_survey = pd.read_csv(\"schools/survey_all.txt\", delimiter=\"\\t\", encoding='windows-1252')\n",
    "d75_survey = pd.read_csv(\"schools/survey_d75.txt\", delimiter=\"\\t\", encoding='windows-1252')\n",
    "survey = pd.concat([all_survey, d75_survey], axis=0)\n",
    "\n",
    "survey[\"DBN\"] = survey[\"dbn\"]\n",
    "\n",
    "survey_fields = [\n",
    "    \"DBN\", \n",
    "    \"rr_s\", \n",
    "    \"rr_t\", \n",
    "    \"rr_p\", \n",
    "    \"N_s\", \n",
    "    \"N_t\", \n",
    "    \"N_p\", \n",
    "    \"saf_p_11\", \n",
    "    \"com_p_11\", \n",
    "    \"eng_p_11\", \n",
    "    \"aca_p_11\", \n",
    "    \"saf_t_11\", \n",
    "    \"com_t_11\", \n",
    "    \"eng_t_11\", \n",
    "    \"aca_t_11\", \n",
    "    \"saf_s_11\", \n",
    "    \"com_s_11\", \n",
    "    \"eng_s_11\", \n",
    "    \"aca_s_11\", \n",
    "    \"saf_tot_11\", \n",
    "    \"com_tot_11\", \n",
    "    \"eng_tot_11\", \n",
    "    \"aca_tot_11\",\n",
    "]\n",
    "survey = survey.loc[:,survey_fields]\n",
    "data[\"survey\"] = survey"
   ]
  },
  {
   "cell_type": "markdown",
   "metadata": {},
   "source": [
    "# Add DBN columns"
   ]
  },
  {
   "cell_type": "code",
   "execution_count": 4,
   "metadata": {},
   "outputs": [],
   "source": [
    "data[\"hs_directory\"][\"DBN\"] = data[\"hs_directory\"][\"dbn\"]\n",
    "\n",
    "def pad_csd(num):\n",
    "    string_representation = str(num)\n",
    "    if len(string_representation) > 1:\n",
    "        return string_representation\n",
    "    else:\n",
    "        return \"0\" + string_representation\n",
    "    \n",
    "data[\"class_size\"][\"padded_csd\"] = data[\"class_size\"][\"CSD\"].apply(pad_csd)\n",
    "data[\"class_size\"][\"DBN\"] = data[\"class_size\"][\"padded_csd\"] + data[\"class_size\"][\"SCHOOL CODE\"]"
   ]
  },
  {
   "cell_type": "markdown",
   "metadata": {},
   "source": [
    "# Convert columns to numeric"
   ]
  },
  {
   "cell_type": "code",
   "execution_count": 5,
   "metadata": {},
   "outputs": [],
   "source": [
    "cols = ['SAT Math Avg. Score', 'SAT Critical Reading Avg. Score', 'SAT Writing Avg. Score']\n",
    "for c in cols:\n",
    "    data[\"sat_results\"][c] = pd.to_numeric(data[\"sat_results\"][c], errors=\"coerce\")\n",
    "\n",
    "data['sat_results']['sat_score'] = data['sat_results'][cols[0]] + data['sat_results'][cols[1]] + data['sat_results'][cols[2]]\n",
    "\n",
    "def find_lat(loc):\n",
    "    coords = re.findall(\"\\(.+, .+\\)\", loc)\n",
    "    lat = coords[0].split(\",\")[0].replace(\"(\", \"\")\n",
    "    return lat\n",
    "\n",
    "def find_lon(loc):\n",
    "    coords = re.findall(\"\\(.+, .+\\)\", loc)\n",
    "    lon = coords[0].split(\",\")[1].replace(\")\", \"\").strip()\n",
    "    return lon\n",
    "\n",
    "data[\"hs_directory\"][\"lat\"] = data[\"hs_directory\"][\"Location 1\"].apply(find_lat)\n",
    "data[\"hs_directory\"][\"lon\"] = data[\"hs_directory\"][\"Location 1\"].apply(find_lon)\n",
    "\n",
    "data[\"hs_directory\"][\"lat\"] = pd.to_numeric(data[\"hs_directory\"][\"lat\"], errors=\"coerce\")\n",
    "data[\"hs_directory\"][\"lon\"] = pd.to_numeric(data[\"hs_directory\"][\"lon\"], errors=\"coerce\")"
   ]
  },
  {
   "cell_type": "markdown",
   "metadata": {},
   "source": [
    "# Condense datasets"
   ]
  },
  {
   "cell_type": "code",
   "execution_count": 6,
   "metadata": {},
   "outputs": [],
   "source": [
    "class_size = data[\"class_size\"]\n",
    "class_size = class_size[class_size[\"GRADE \"] == \"09-12\"]\n",
    "class_size = class_size[class_size[\"PROGRAM TYPE\"] == \"GEN ED\"]\n",
    "\n",
    "class_size = class_size.groupby(\"DBN\").agg(numpy.mean)\n",
    "class_size.reset_index(inplace=True)\n",
    "data[\"class_size\"] = class_size\n",
    "\n",
    "data[\"demographics\"] = data[\"demographics\"][data[\"demographics\"][\"schoolyear\"] == 20112012]\n",
    "\n",
    "data[\"graduation\"] = data[\"graduation\"][data[\"graduation\"][\"Cohort\"] == \"2006\"]\n",
    "data[\"graduation\"] = data[\"graduation\"][data[\"graduation\"][\"Demographic\"] == \"Total Cohort\"]"
   ]
  },
  {
   "cell_type": "markdown",
   "metadata": {},
   "source": [
    "# Convert AP scores to numeric"
   ]
  },
  {
   "cell_type": "code",
   "execution_count": 7,
   "metadata": {},
   "outputs": [],
   "source": [
    "cols = ['AP Test Takers ', 'Total Exams Taken', 'Number of Exams with scores 3 4 or 5']\n",
    "\n",
    "for col in cols:\n",
    "    data[\"ap_2010\"][col] = pd.to_numeric(data[\"ap_2010\"][col], errors=\"coerce\")"
   ]
  },
  {
   "cell_type": "markdown",
   "metadata": {},
   "source": [
    "# Combine the datasets"
   ]
  },
  {
   "cell_type": "code",
   "execution_count": 8,
   "metadata": {},
   "outputs": [],
   "source": [
    "combined = data[\"sat_results\"]\n",
    "\n",
    "combined = combined.merge(data[\"ap_2010\"], on=\"DBN\", how=\"left\")\n",
    "combined = combined.merge(data[\"graduation\"], on=\"DBN\", how=\"left\")\n",
    "\n",
    "to_merge = [\"class_size\", \"demographics\", \"survey\", \"hs_directory\"]\n",
    "\n",
    "for m in to_merge:\n",
    "    combined = combined.merge(data[m], on=\"DBN\", how=\"inner\")\n",
    "\n",
    "combined = combined.fillna(combined.mean())\n",
    "combined = combined.fillna(0)"
   ]
  },
  {
   "cell_type": "markdown",
   "metadata": {},
   "source": [
    "# Add a school district column for mapping"
   ]
  },
  {
   "cell_type": "code",
   "execution_count": 9,
   "metadata": {},
   "outputs": [],
   "source": [
    "def get_first_two_chars(dbn):\n",
    "    return dbn[0:2]\n",
    "\n",
    "combined[\"school_dist\"] = combined[\"DBN\"].apply(get_first_two_chars)"
   ]
  },
  {
   "cell_type": "markdown",
   "metadata": {},
   "source": [
    "# Find correlations"
   ]
  },
  {
   "cell_type": "code",
   "execution_count": 10,
   "metadata": {},
   "outputs": [
    {
     "name": "stdout",
     "output_type": "stream",
     "text": [
      "SAT Critical Reading Avg. Score         0.986820\n",
      "SAT Math Avg. Score                     0.972643\n",
      "SAT Writing Avg. Score                  0.987771\n",
      "sat_score                               1.000000\n",
      "AP Test Takers                          0.523140\n",
      "Total Exams Taken                       0.514333\n",
      "Number of Exams with scores 3 4 or 5    0.463245\n",
      "Total Cohort                            0.325144\n",
      "CSD                                     0.042948\n",
      "NUMBER OF STUDENTS / SEATS FILLED       0.394626\n",
      "NUMBER OF SECTIONS                      0.362673\n",
      "AVERAGE CLASS SIZE                      0.381014\n",
      "SIZE OF SMALLEST CLASS                  0.249949\n",
      "SIZE OF LARGEST CLASS                   0.314434\n",
      "SCHOOLWIDE PUPIL-TEACHER RATIO               NaN\n",
      "schoolyear                                   NaN\n",
      "fl_percent                                   NaN\n",
      "frl_percent                            -0.722225\n",
      "total_enrollment                        0.367857\n",
      "ell_num                                -0.153778\n",
      "ell_percent                            -0.398750\n",
      "sped_num                                0.034933\n",
      "sped_percent                           -0.448170\n",
      "asian_num                               0.475445\n",
      "asian_per                               0.570730\n",
      "black_num                               0.027979\n",
      "black_per                              -0.284139\n",
      "hispanic_num                            0.025744\n",
      "hispanic_per                           -0.396985\n",
      "white_num                               0.449559\n",
      "                                          ...   \n",
      "rr_p                                    0.047925\n",
      "N_s                                     0.423463\n",
      "N_t                                     0.291463\n",
      "N_p                                     0.421530\n",
      "saf_p_11                                0.122913\n",
      "com_p_11                               -0.115073\n",
      "eng_p_11                                0.020254\n",
      "aca_p_11                                0.035155\n",
      "saf_t_11                                0.313810\n",
      "com_t_11                                0.082419\n",
      "eng_t_11                                0.036906\n",
      "aca_t_11                                0.132348\n",
      "saf_s_11                                0.337639\n",
      "com_s_11                                0.187370\n",
      "eng_s_11                                0.213822\n",
      "aca_s_11                                0.339435\n",
      "saf_tot_11                              0.318753\n",
      "com_tot_11                              0.077310\n",
      "eng_tot_11                              0.100102\n",
      "aca_tot_11                              0.190966\n",
      "grade_span_max                               NaN\n",
      "expgrade_span_max                            NaN\n",
      "zip                                    -0.063977\n",
      "total_students                          0.407827\n",
      "number_programs                         0.117012\n",
      "priority08                                   NaN\n",
      "priority09                                   NaN\n",
      "priority10                                   NaN\n",
      "lat                                    -0.121029\n",
      "lon                                    -0.132222\n",
      "Name: sat_score, Length: 67, dtype: float64\n"
     ]
    }
   ],
   "source": [
    "correlations = combined.corr()\n",
    "correlations = correlations[\"sat_score\"]\n",
    "print(correlations)"
   ]
  },
  {
   "cell_type": "markdown",
   "metadata": {},
   "source": [
    "There are several features that correlate highly with `sat_score`. In terms of students ethnicity, we can see easily that hispanic and black students perform a lot worse than asian or white students."
   ]
  },
  {
   "cell_type": "markdown",
   "metadata": {},
   "source": [
    "# Plotting survey correlations"
   ]
  },
  {
   "cell_type": "code",
   "execution_count": 11,
   "metadata": {},
   "outputs": [],
   "source": [
    "# Remove DBN since it's a unique identifier, not a useful numerical value for correlation.\n",
    "survey_fields.remove(\"DBN\")"
   ]
  },
  {
   "cell_type": "code",
   "execution_count": 12,
   "metadata": {},
   "outputs": [],
   "source": [
    "import matplotlib.pyplot as plt\n",
    "%matplotlib inline"
   ]
  },
  {
   "cell_type": "code",
   "execution_count": 13,
   "metadata": {},
   "outputs": [
    {
     "data": {
      "image/png": "[encoded data removed]",
      "text/plain": [
       "<matplotlib.figure.Figure at 0x11166d470>"
      ]
     },
     "metadata": {},
     "output_type": "display_data"
    }
   ],
   "source": [
    "fig, ax = plt.subplots(figsize = (10,7))\n",
    "combined.corr()[\"sat_score\"][survey_fields].plot.barh()\n",
    "ax.tick_params(labelsize=12)\n",
    "# I prefer in this case an horizontal bar plot so it's easier \n",
    "# to read the features"
   ]
  },
  {
   "cell_type": "markdown",
   "metadata": {},
   "source": [
    "There are several features that correlate with `sat_score`, as we mentioned before.\n",
    "\n",
    "The number of respondents `N_p` and `N_s` (Number of parent respondents and Number of student respondents, respectively), for instance. \n",
    "\n",
    "Now, this is not so significant or interesting, in principle.\n",
    "\n",
    "It's worthwhile to study in some more detail the correlation with `saf` features, which relate to 'Safety and Respect'.\n",
    "\n",
    "\n",
    "In particular, `saf_s_11` is 'Safety and Respect score based on student responses' and `saf_t_11` is 'Safety and Respect score based on teachers responses'. So let's explore this.\n",
    "\n",
    "\n",
    "## Exploring Safety and Respect scores (saf)"
   ]
  },
  {
   "cell_type": "code",
   "execution_count": 14,
   "metadata": {},
   "outputs": [
    {
     "data": {
      "text/plain": [
       "Text(0,0.5,'sat_score')"
      ]
     },
     "execution_count": 14,
     "metadata": {},
     "output_type": "execute_result"
    },
    {
     "data": {
      "image/png": "[encoded data removed]",
      "text/plain": [
       "<matplotlib.figure.Figure at 0x111657ac8>"
      ]
     },
     "metadata": {},
     "output_type": "display_data"
    }
   ],
   "source": [
    "plt.scatter(combined['saf_s_11'], combined['sat_score'])\n",
    "plt.xlabel('saf_s_11')\n",
    "plt.ylabel('sat_score')"
   ]
  },
  {
   "cell_type": "markdown",
   "metadata": {},
   "source": [
    "Students from schools with a relatively high SAT score (above 1500) have a low Safety and Respect score.\n",
    "\n",
    "Students at schools that perform well (the small amoung of dots in the upper right zone), have a high Safety and Respect score.\n",
    "\n",
    "By contrast, students from low scoring schools have a low Safety and Respect score."
   ]
  },
  {
   "cell_type": "code",
   "execution_count": 15,
   "metadata": {},
   "outputs": [
    {
     "data": {
      "text/plain": [
       "<matplotlib.axes._subplots.AxesSubplot at 0x11165d7b8>"
      ]
     },
     "execution_count": 15,
     "metadata": {},
     "output_type": "execute_result"
    },
    {
     "data": {
      "image/png": "[encoded data removed]",
      "text/plain": [
       "<matplotlib.figure.Figure at 0x111647c18>"
      ]
     },
     "metadata": {},
     "output_type": "display_data"
    }
   ],
   "source": [
    "#we can also use the formula dataframe.plot.scatter('column_x', 'column_y')\n",
    "combined.plot.scatter(\"saf_s_11\", \"sat_score\")\n"
   ]
  },
  {
   "cell_type": "markdown",
   "metadata": {
    "collapsed": true
   },
   "source": [
    "## Let's explore Safety and Respect scores"
   ]
  },
  {
   "cell_type": "code",
   "execution_count": 16,
   "metadata": {},
   "outputs": [
    {
     "data": {
      "text/html": [
       "<div>\n",
       "<style scoped>\n",
       "    .dataframe tbody tr th:only-of-type {\n",
       "        vertical-align: middle;\n",
       "    }\n",
       "\n",
       "    .dataframe tbody tr th {\n",
       "        vertical-align: top;\n",
       "    }\n",
       "\n",
       "    .dataframe thead th {\n",
       "        text-align: right;\n",
       "    }\n",
       "</style>\n",
       "<table border=\"1\" class=\"dataframe\">\n",
       "  <thead>\n",
       "    <tr style=\"text-align: right;\">\n",
       "      <th></th>\n",
       "      <th>school_dist</th>\n",
       "      <th>SAT Critical Reading Avg. Score</th>\n",
       "      <th>SAT Math Avg. Score</th>\n",
       "      <th>SAT Writing Avg. Score</th>\n",
       "      <th>sat_score</th>\n",
       "      <th>AP Test Takers</th>\n",
       "      <th>Total Exams Taken</th>\n",
       "      <th>Number of Exams with scores 3 4 or 5</th>\n",
       "      <th>Total Cohort</th>\n",
       "      <th>CSD</th>\n",
       "      <th>...</th>\n",
       "      <th>grade_span_max</th>\n",
       "      <th>expgrade_span_max</th>\n",
       "      <th>zip</th>\n",
       "      <th>total_students</th>\n",
       "      <th>number_programs</th>\n",
       "      <th>priority08</th>\n",
       "      <th>priority09</th>\n",
       "      <th>priority10</th>\n",
       "      <th>lat</th>\n",
       "      <th>lon</th>\n",
       "    </tr>\n",
       "  </thead>\n",
       "  <tbody>\n",
       "    <tr>\n",
       "      <th>0</th>\n",
       "      <td>01</td>\n",
       "      <td>441.833333</td>\n",
       "      <td>473.333333</td>\n",
       "      <td>439.333333</td>\n",
       "      <td>1354.500000</td>\n",
       "      <td>116.681090</td>\n",
       "      <td>173.019231</td>\n",
       "      <td>135.800000</td>\n",
       "      <td>93.500000</td>\n",
       "      <td>1.0</td>\n",
       "      <td>...</td>\n",
       "      <td>12.0</td>\n",
       "      <td>12.0</td>\n",
       "      <td>10003.166667</td>\n",
       "      <td>659.500000</td>\n",
       "      <td>1.333333</td>\n",
       "      <td>0.0</td>\n",
       "      <td>0.0</td>\n",
       "      <td>0.0</td>\n",
       "      <td>40.719022</td>\n",
       "      <td>-73.982377</td>\n",
       "    </tr>\n",
       "    <tr>\n",
       "      <th>1</th>\n",
       "      <td>02</td>\n",
       "      <td>426.619092</td>\n",
       "      <td>444.186256</td>\n",
       "      <td>424.832836</td>\n",
       "      <td>1295.638184</td>\n",
       "      <td>128.908454</td>\n",
       "      <td>201.516827</td>\n",
       "      <td>157.495833</td>\n",
       "      <td>158.647849</td>\n",
       "      <td>2.0</td>\n",
       "      <td>...</td>\n",
       "      <td>12.0</td>\n",
       "      <td>12.0</td>\n",
       "      <td>10023.770833</td>\n",
       "      <td>621.395833</td>\n",
       "      <td>1.416667</td>\n",
       "      <td>0.0</td>\n",
       "      <td>0.0</td>\n",
       "      <td>0.0</td>\n",
       "      <td>40.739699</td>\n",
       "      <td>-73.991386</td>\n",
       "    </tr>\n",
       "  </tbody>\n",
       "</table>\n",
       "<p>2 rows × 68 columns</p>\n",
       "</div>"
      ],
      "text/plain": [
       "  school_dist  SAT Critical Reading Avg. Score  SAT Math Avg. Score  \\\n",
       "0          01                       441.833333           473.333333   \n",
       "1          02                       426.619092           444.186256   \n",
       "\n",
       "   SAT Writing Avg. Score    sat_score  AP Test Takers   Total Exams Taken  \\\n",
       "0              439.333333  1354.500000       116.681090         173.019231   \n",
       "1              424.832836  1295.638184       128.908454         201.516827   \n",
       "\n",
       "   Number of Exams with scores 3 4 or 5  Total Cohort  CSD    ...      \\\n",
       "0                            135.800000     93.500000  1.0    ...       \n",
       "1                            157.495833    158.647849  2.0    ...       \n",
       "\n",
       "   grade_span_max  expgrade_span_max           zip  total_students  \\\n",
       "0            12.0               12.0  10003.166667      659.500000   \n",
       "1            12.0               12.0  10023.770833      621.395833   \n",
       "\n",
       "   number_programs  priority08  priority09  priority10        lat        lon  \n",
       "0         1.333333         0.0         0.0         0.0  40.719022 -73.982377  \n",
       "1         1.416667         0.0         0.0         0.0  40.739699 -73.991386  \n",
       "\n",
       "[2 rows x 68 columns]"
      ]
     },
     "execution_count": 16,
     "metadata": {},
     "output_type": "execute_result"
    }
   ],
   "source": [
    "average = combined.groupby(\"school_dist\").agg(numpy.mean)\n",
    "average.reset_index(inplace=True)\n",
    "average.head(2)"
   ]
  },
  {
   "cell_type": "code",
   "execution_count": 17,
   "metadata": {},
   "outputs": [],
   "source": [
    "from mpl_toolkits.basemap import Basemap"
   ]
  },
  {
   "cell_type": "code",
   "execution_count": 18,
   "metadata": {},
   "outputs": [
    {
     "name": "stderr",
     "output_type": "stream",
     "text": [
      "/Users/nahusznaj/anaconda3/lib/python3.6/site-packages/mpl_toolkits/basemap/__init__.py:1698: MatplotlibDeprecationWarning: The axesPatch function was deprecated in version 2.1. Use Axes.patch instead.\n",
      "  limb = ax.axesPatch\n",
      "/Users/nahusznaj/anaconda3/lib/python3.6/site-packages/mpl_toolkits/basemap/__init__.py:3222: MatplotlibDeprecationWarning: The ishold function was deprecated in version 2.0.\n",
      "  b = ax.ishold()\n",
      "/Users/nahusznaj/anaconda3/lib/python3.6/site-packages/mpl_toolkits/basemap/__init__.py:3231: MatplotlibDeprecationWarning: axes.hold is deprecated.\n",
      "    See the API Changes document (http://matplotlib.org/api/api_changes.html)\n",
      "    for more details.\n",
      "  ax.hold(b)\n"
     ]
    },
    {
     "data": {
      "text/plain": [
       "<matplotlib.collections.PathCollection at 0x112e92ac8>"
      ]
     },
     "execution_count": 18,
     "metadata": {},
     "output_type": "execute_result"
    },
    {
     "data": {
      "image/png": "[encoded data removed]",
      "text/plain": [
       "<matplotlib.figure.Figure at 0x112e64438>"
      ]
     },
     "metadata": {},
     "output_type": "display_data"
    }
   ],
   "source": [
    "fig, ax = plt.subplots(figsize = (10,7))\n",
    "\n",
    "\n",
    "m = Basemap(\n",
    "    projection='merc', \n",
    "    llcrnrlat=40.496044, \n",
    "    urcrnrlat=40.915256, \n",
    "    llcrnrlon=-74.255735, \n",
    "    urcrnrlon=-73.700272,\n",
    "    resolution='i'\n",
    ")\n",
    "\n",
    "m.drawmapboundary(fill_color='#85A6D9')\n",
    "m.drawcoastlines(color='#6D5F47', linewidth=.8)\n",
    "\n",
    "longitudes = average['lon'].tolist()\n",
    "latitudes = average['lat'].tolist()\n",
    "\n",
    "m.scatter(longitudes,latitudes, s=50, zorder = 2,\n",
    "          latlon = True, c = average['saf_s_11'],\n",
    "          cmap = 'summer') #m.scatter(x, y, size 30\n",
    "            # for better sized points, the zorder so that the\n",
    "            # dots are on top of the map and not underneath, \n",
    "            # and the latlot in True so that scatter knows that x \n",
    "            # and y are longitudes and latitudes and not x,y coordinates\n",
    "\n",
    "#in this case I added a colour map: with cmap = summer and  the c kwarg \n",
    "# argument being the series 'saf_s_11', the result will be that school \n",
    "# with a high saf (remember: Safety and Respect scores from students)\n",
    "# as yellow, and a school with a low saf as green. "
   ]
  },
  {
   "cell_type": "markdown",
   "metadata": {
    "collapsed": true
   },
   "source": [
    "Green is at the bottom end of the summer scale and yellow at the top. This means that Brooklyn and some parts of the Bronx have high safety and respect scores from students, while Manhattan and Queens have lower scores.\n",
    "\n",
    "See the colour references in this link https://matplotlib.org/examples/color/colormaps_reference.html"
   ]
  },
  {
   "cell_type": "markdown",
   "metadata": {},
   "source": [
    "## Ethnic groups and SAT scores"
   ]
  },
  {
   "cell_type": "markdown",
   "metadata": {},
   "source": [
    "As mentioned before, we can see from the correlations with `sat_score` that hispanic and black students perform a lot worse than asian or white students. Let's run some visual representations of this.\n",
    "\n",
    "Let's first focus the correlation with `sat_score` that we pulled earlier on the ethnicity."
   ]
  },
  {
   "cell_type": "code",
   "execution_count": 19,
   "metadata": {},
   "outputs": [],
   "source": [
    "ethnics = ['white_per', 'asian_per', 'black_per', 'hispanic_per']"
   ]
  },
  {
   "cell_type": "code",
   "execution_count": 20,
   "metadata": {},
   "outputs": [
    {
     "data": {
      "image/png": "[encoded data removed]",
      "text/plain": [
       "<matplotlib.figure.Figure at 0x112e50b70>"
      ]
     },
     "metadata": {},
     "output_type": "display_data"
    }
   ],
   "source": [
    "combined.corr()[\"sat_score\"][ethnics].plot.bar()\n",
    "plt.tick_params(labelsize=14)"
   ]
  },
  {
   "cell_type": "markdown",
   "metadata": {},
   "source": [
    "It's clear that hispanic ethnic group is the one that correlates worse with `sat_score`, that is, the lower the score the higher the percentage of hispanic pupils."
   ]
  },
  {
   "cell_type": "markdown",
   "metadata": {},
   "source": [
    "Let's define that SAT score below 1000 is a low one and above 1000 a high SAT score."
   ]
  },
  {
   "cell_type": "code",
   "execution_count": 21,
   "metadata": {},
   "outputs": [],
   "source": [
    "low_sat_score = combined[combined['sat_score'] < 1000]\n",
    "high_sat_score = combined[combined['sat_score'] >= 1000]"
   ]
  },
  {
   "cell_type": "code",
   "execution_count": 22,
   "metadata": {},
   "outputs": [
    {
     "data": {
      "text/plain": [
       "<matplotlib.axes._subplots.AxesSubplot at 0x112e67898>"
      ]
     },
     "execution_count": 22,
     "metadata": {},
     "output_type": "execute_result"
    },
    {
     "data": {
      "image/png": "[encoded data removed]",
      "text/plain": [
       "<matplotlib.figure.Figure at 0x111d11da0>"
      ]
     },
     "metadata": {},
     "output_type": "display_data"
    }
   ],
   "source": [
    "low_sat_score.plot.scatter('hispanic_per', 'sat_score')"
   ]
  },
  {
   "cell_type": "code",
   "execution_count": 23,
   "metadata": {},
   "outputs": [
    {
     "data": {
      "text/plain": [
       "91                  INTERNATIONAL COMMUNITY HIGH SCHOOL\n",
       "125                 ACADEMY FOR LANGUAGE AND TECHNOLOGY\n",
       "126                     BRONX INTERNATIONAL HIGH SCHOOL\n",
       "139               KINGSBRIDGE INTERNATIONAL HIGH SCHOOL\n",
       "141               INTERNATIONAL SCHOOL FOR LIBERAL ARTS\n",
       "176    PAN AMERICAN INTERNATIONAL HIGH SCHOOL AT MONROE\n",
       "179                       HIGH SCHOOL OF WORLD CULTURES\n",
       "188                  BROOKLYN INTERNATIONAL HIGH SCHOOL\n",
       "225       INTERNATIONAL HIGH SCHOOL AT PROSPECT HEIGHTS\n",
       "237                          IT TAKES A VILLAGE ACADEMY\n",
       "253                           MULTICULTURAL HIGH SCHOOL\n",
       "286              PAN AMERICAN INTERNATIONAL HIGH SCHOOL\n",
       "Name: SCHOOL NAME, dtype: object"
      ]
     },
     "execution_count": 23,
     "metadata": {},
     "output_type": "execute_result"
    }
   ],
   "source": [
    "low_sat_score['SCHOOL NAME']"
   ]
  },
  {
   "cell_type": "code",
   "execution_count": 24,
   "metadata": {},
   "outputs": [],
   "source": [
    "high_hispanic = combined[combined['hispanic_per'] >= 95]\n"
   ]
  },
  {
   "cell_type": "code",
   "execution_count": 25,
   "metadata": {},
   "outputs": [
    {
     "name": "stdout",
     "output_type": "stream",
     "text": [
      "44                         MANHATTAN BRIDGES HIGH SCHOOL\n",
      "82      WASHINGTON HEIGHTS EXPEDITIONARY LEARNING SCHOOL\n",
      "89     GREGORIO LUPERON HIGH SCHOOL FOR SCIENCE AND M...\n",
      "125                  ACADEMY FOR LANGUAGE AND TECHNOLOGY\n",
      "141                INTERNATIONAL SCHOOL FOR LIBERAL ARTS\n",
      "176     PAN AMERICAN INTERNATIONAL HIGH SCHOOL AT MONROE\n",
      "253                            MULTICULTURAL HIGH SCHOOL\n",
      "286               PAN AMERICAN INTERNATIONAL HIGH SCHOOL\n",
      "Name: SCHOOL NAME, dtype: object\n",
      "44     72.6\n",
      "82     19.6\n",
      "89     89.6\n",
      "125    86.6\n",
      "141    79.9\n",
      "176    92.9\n",
      "253    94.6\n",
      "286    91.3\n",
      "Name: ell_percent, dtype: float64\n"
     ]
    }
   ],
   "source": [
    "print(high_hispanic['SCHOOL NAME'])\n",
    "\n",
    "print(high_hispanic['ell_percent'])"
   ]
  },
  {
   "cell_type": "markdown",
   "metadata": {},
   "source": [
    "Wow! All schools in NYC with most students being hispanic have a pretty low score.\n",
    "\n",
    "These schools have pupils who are still learning English as a second language, this may explain why they do not perform well in SAT."
   ]
  },
  {
   "cell_type": "code",
   "execution_count": 26,
   "metadata": {},
   "outputs": [
    {
     "name": "stdout",
     "output_type": "stream",
     "text": [
      "<class 'pandas.core.frame.DataFrame'>\n",
      "Int64Index: 86 entries, 4 to 356\n",
      "Columns: 160 entries, DBN to school_dist\n",
      "dtypes: float64(51), int64(16), object(93)\n",
      "memory usage: 108.2+ KB\n"
     ]
    }
   ],
   "source": [
    "low_hispanic = combined[combined['hispanic_per'] < 20]\n",
    "low_hispanic.info()"
   ]
  },
  {
   "cell_type": "code",
   "execution_count": 27,
   "metadata": {},
   "outputs": [
    {
     "data": {
      "text/plain": [
       "<matplotlib.axes._subplots.AxesSubplot at 0x112f6f128>"
      ]
     },
     "execution_count": 27,
     "metadata": {},
     "output_type": "execute_result"
    },
    {
     "data": {
      "image/png": "[encoded data removed]",
      "text/plain": [
       "<matplotlib.figure.Figure at 0x112f57e80>"
      ]
     },
     "metadata": {},
     "output_type": "display_data"
    }
   ],
   "source": [
    "low_hispanic.plot.scatter('hispanic_per', 'sat_score')"
   ]
  },
  {
   "cell_type": "markdown",
   "metadata": {},
   "source": [
    "On the contrary, schools with a low percentage of hispanic pupils have various scores.\n",
    "\n",
    "Let's look at schools with high score and low population of hispanic pupils:"
   ]
  },
  {
   "cell_type": "code",
   "execution_count": 28,
   "metadata": {},
   "outputs": [
    {
     "name": "stdout",
     "output_type": "stream",
     "text": [
      "37                                STUYVESANT HIGH SCHOOL\n",
      "151                         BRONX HIGH SCHOOL OF SCIENCE\n",
      "187                       BROOKLYN TECHNICAL HIGH SCHOOL\n",
      "327    QUEENS HIGH SCHOOL FOR THE SCIENCES AT YORK CO...\n",
      "356                  STATEN ISLAND TECHNICAL HIGH SCHOOL\n",
      "Name: SCHOOL NAME, dtype: object\n"
     ]
    }
   ],
   "source": [
    "high_sat_low_hispanic =  combined[(combined['hispanic_per'] < 10) \n",
    "                                  & (combined['sat_score'] > 1800) ]\n",
    "print(high_sat_low_hispanic['SCHOOL NAME'])"
   ]
  },
  {
   "cell_type": "markdown",
   "metadata": {
    "collapsed": true
   },
   "source": [
    "There are only 5 schools with a low percentage of hispanic origin students and high score."
   ]
  },
  {
   "cell_type": "markdown",
   "metadata": {},
   "source": [
    "We could look up each school to see whether there's a common characteristig. Indeed, these schools select only the best students so that's why they have a high score. "
   ]
  },
  {
   "cell_type": "markdown",
   "metadata": {},
   "source": [
    "## Let's look at gender"
   ]
  },
  {
   "cell_type": "code",
   "execution_count": 29,
   "metadata": {},
   "outputs": [
    {
     "data": {
      "image/png": "[encoded data removed]",
      "text/plain": [
       "<matplotlib.figure.Figure at 0x112f761d0>"
      ]
     },
     "metadata": {},
     "output_type": "display_data"
    }
   ],
   "source": [
    "combined.corr()[\"sat_score\"][['male_per', 'female_per']].plot.bar()\n",
    "plt.tick_params(labelsize=14)"
   ]
  },
  {
   "cell_type": "markdown",
   "metadata": {},
   "source": [
    "There is no strong correlation in terms of gender, although female positively correlates with SAT score  while males correlate negatively."
   ]
  },
  {
   "cell_type": "code",
   "execution_count": 30,
   "metadata": {},
   "outputs": [
    {
     "data": {
      "text/plain": [
       "<matplotlib.legend.Legend at 0x1130499b0>"
      ]
     },
     "execution_count": 30,
     "metadata": {},
     "output_type": "execute_result"
    },
    {
     "data": {
      "image/png": "[encoded data removed]",
      "text/plain": [
       "<matplotlib.figure.Figure at 0x113049e10>"
      ]
     },
     "metadata": {},
     "output_type": "display_data"
    }
   ],
   "source": [
    "fig, ax = plt.subplots()\n",
    "\n",
    "cb_dark_bluecb_dark  = (0/255,107/255,164/255)\n",
    "cb_orange = (255/255, 128/255, 14/255)\n",
    "\n",
    "high_sat_score.plot.scatter('female_per', \n",
    "                            'sat_score', \n",
    "                            c = cb_dark_bluecb_dark, \n",
    "                            ax = ax,\n",
    "                            label = 'female',\n",
    "                           s = 30)\n",
    "high_sat_score.plot.scatter('male_per', \n",
    "                            'sat_score', \n",
    "                            c = cb_orange, \n",
    "                            ax = ax,\n",
    "                           label = 'male',\n",
    "                           s = 30)\n",
    "ax.set_xlabel('gender percentage')\n",
    "ax.legend()"
   ]
  },
  {
   "cell_type": "markdown",
   "metadata": {},
   "source": [
    "There doesn't seem to be a correlation between gender population and sat performance.\n",
    "\n",
    "There seems to be the case that schools with a highly predominant gender population have a low SAT score.\n",
    "\n",
    "While schools with the high scores tend to be more balanced in terms of gender 40 - 60 %."
   ]
  },
  {
   "cell_type": "markdown",
   "metadata": {},
   "source": [
    "Let's look at schools with a high percentage of female pupils and high SAT score."
   ]
  },
  {
   "cell_type": "code",
   "execution_count": 31,
   "metadata": {},
   "outputs": [],
   "source": [
    "high_female = combined[(combined['female_per'] > 60) &\n",
    "                       (combined['sat_score'] > 1700)]"
   ]
  },
  {
   "cell_type": "code",
   "execution_count": 32,
   "metadata": {},
   "outputs": [
    {
     "data": {
      "text/plain": [
       "5                         BARD HIGH SCHOOL EARLY COLLEGE\n",
       "26                         ELEANOR ROOSEVELT HIGH SCHOOL\n",
       "60                                    BEACON HIGH SCHOOL\n",
       "61     FIORELLO H. LAGUARDIA HIGH SCHOOL OF MUSIC & A...\n",
       "302                          TOWNSEND HARRIS HIGH SCHOOL\n",
       "Name: SCHOOL NAME, dtype: object"
      ]
     },
     "execution_count": 32,
     "metadata": {},
     "output_type": "execute_result"
    }
   ],
   "source": [
    "high_female['SCHOOL NAME']"
   ]
  },
  {
   "cell_type": "markdown",
   "metadata": {},
   "source": [
    "## Advanced Placement exams"
   ]
  },
  {
   "cell_type": "markdown",
   "metadata": {},
   "source": [
    "In the USA, high school students take Advanced Placement (AP) exams to earn college credit. There are AP exams for many different subjects.\n",
    "\n",
    "Because total_enrollment is highly correlated with sat_score, as we mentined above, we want to filter this. Hence, we'll calculate the percentage of students in each school who took at least one AP exam."
   ]
  },
  {
   "cell_type": "code",
   "execution_count": 33,
   "metadata": {},
   "outputs": [],
   "source": [
    "combined['ap_per'] = 100* combined['AP Test Takers ']/combined['total_enrollment']\n"
   ]
  },
  {
   "cell_type": "code",
   "execution_count": 34,
   "metadata": {},
   "outputs": [
    {
     "data": {
      "text/plain": [
       "<matplotlib.axes._subplots.AxesSubplot at 0x114962eb8>"
      ]
     },
     "execution_count": 34,
     "metadata": {},
     "output_type": "execute_result"
    },
    {
     "data": {
      "image/png": "[encoded data removed]",
      "text/plain": [
       "<matplotlib.figure.Figure at 0x1130264a8>"
      ]
     },
     "metadata": {},
     "output_type": "display_data"
    }
   ],
   "source": [
    "combined.plot.scatter('ap_per', 'sat_score')"
   ]
  },
  {
   "cell_type": "markdown",
   "metadata": {},
   "source": [
    "There isn't a strong tendency here, but it is noteworthy that scools with a high percentage of pupils that take AP exam have a relatively low SAT score."
   ]
  },
  {
   "cell_type": "code",
   "execution_count": null,
   "metadata": {
    "collapsed": true
   },
   "outputs": [],
   "source": []
  }
 ],
 "metadata": {
  "kernelspec": {
   "display_name": "Python 3",
   "language": "python",
   "name": "python3"
  },
  "language_info": {
   "codemirror_mode": {
    "name": "ipython",
    "version": 3
   },
   "file_extension": ".py",
   "mimetype": "text/x-python",
   "name": "python",
   "nbconvert_exporter": "python",
   "pygments_lexer": "ipython3",
   "version": "3.6.4"
  }
 },
 "nbformat": 4,
 "nbformat_minor": 2
}
